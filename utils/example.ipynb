{
 "cells": [
  {
   "cell_type": "code",
   "execution_count": 2,
   "metadata": {},
   "outputs": [
    {
     "name": "stdout",
     "output_type": "stream",
     "text": [
      "(fine_key_path) CHROMA:./database/chroma_database\n"
     ]
    }
   ],
   "source": [
    "from utils.get_setting import setting_data, print_setting_data, find_key_path, value_of_key\n",
    "\n",
    "crawler_RDF_folder_path = find_key_path(\"碩博士論文_RDF\")\n",
    "apply_list_folder_path = find_key_path(\"統計表分析\") \n",
    "recommendation_list_folder_path = find_key_path(\"產學申請名冊\") \n",
    "\n",
    "print(f\"(fine_key_path) CHROMA:{find_key_path('CHROMA')}\")"
   ]
  },
  {
   "cell_type": "code",
   "execution_count": 11,
   "metadata": {},
   "outputs": [
    {
     "name": "stdout",
     "output_type": "stream",
     "text": [
      "0    國立雲林科技大學\n",
      "1    前瞻學士學位學程\n",
      "dtype: object\n"
     ]
    }
   ],
   "source": [
    "import pandas as pd\n",
    "\n",
    "def split_institution(department_full):\n",
    "    keywords = ['大學', '院', '博物館', '學校', '法人']  # 列出所有可能的分割關鍵字\n",
    "    for keyword in keywords:\n",
    "        if keyword in department_full:\n",
    "            school, department = department_full.split(keyword, 1)\n",
    "            school += keyword  # 將關鍵字加回學校名稱中\n",
    "            return pd.Series([school.strip(), department.strip()])\n",
    "    return pd.Series([department_full.strip(), ''])  # 如果沒有關鍵字，就只有學校沒有系所\n",
    "\n",
    "print(split_institution(\"國立雲林科技大學前瞻學士學位學程\"))"
   ]
  },
  {
   "cell_type": "code",
   "execution_count": 10,
   "metadata": {},
   "outputs": [
    {
     "name": "stdout",
     "output_type": "stream",
     "text": [
      "[['薛雅馨', '國立雲林科技大學電子工程系暨研究所']]\n",
      "[['孫敏德', '國立中央大學資訊工程學系'], ['張克士', '國立暨南國際大學教育學院'], ['洪炯宗', '國立中央大學資訊工程學系']]\n",
      "[['吳炳飛', ''], ['薛雅馨', '國立雲林科技大學電子工程系暨研究所']]\n",
      "[['', '國立陽明交通大學電控工程研究所'], ['', '國立清華大學電機工程學系（所）']]\n"
     ]
    }
   ],
   "source": [
    "import re\n",
    "\n",
    "def extract_text_in_parentheses(text):\n",
    "    if isinstance(text, str):\n",
    "        if text == \"\":\n",
    "            return [['', '']]\n",
    "        \n",
    "        # 捕捉名字和括號內的內容\n",
    "        pattern = r'([^;]+)\\(([^)]+)\\)' \n",
    "        matches = re.findall(pattern, text)\n",
    "        \n",
    "        if matches:  details = [[match[0].strip(), match[1]] for match in matches] # 成對的\n",
    "        else:\n",
    "            # 如果沒有匹配到括號中的內容，檢查是否是部門名稱\n",
    "            if \"大學\" in text or \"學系\" in text or \"研究所\" in text:\n",
    "                details = [[\"\", text.strip()]]\n",
    "            else:\n",
    "                details = [[text.strip(), '']]\n",
    "        \n",
    "        return details\n",
    "    \n",
    "    elif isinstance(text, list):\n",
    "        result = []\n",
    "        for item in text:\n",
    "            result.extend(extract_text_in_parentheses(item))\n",
    "        return result\n",
    "\n",
    "    return []\n",
    "\n",
    "# 使用範例\n",
    "text = \"薛雅馨(國立雲林科技大學電子工程系暨研究所)\"\n",
    "result = extract_text_in_parentheses(text)\n",
    "print(result)\n",
    "\n",
    "# 使用範例\n",
    "text = \"\"\"\n",
    "孫敏德(國立中央大學資訊工程學系);\n",
    "張克士(國立暨南國際大學教育學院);\n",
    "洪炯宗(國立中央大學資訊工程學系)\n",
    "\"\"\"\n",
    "result = extract_text_in_parentheses(text)\n",
    "print(result)\n",
    "\n",
    "new_text_list = ['吳炳飛', \"薛雅馨(國立雲林科技大學電子工程系暨研究所)\"]\n",
    "result = extract_text_in_parentheses(new_text_list)\n",
    "print(result) # \n",
    "\n",
    "only_department = ['國立陽明交通大學電控工程研究所', '國立清華大學電機工程學系（所）']\n",
    "result = extract_text_in_parentheses(only_department)\n",
    "print(result) # "
   ]
  },
  {
   "cell_type": "code",
   "execution_count": 7,
   "metadata": {},
   "outputs": [
    {
     "data": {
      "text/plain": [
       "['', '國立雲林科技大學電子工程系暨研究所']"
      ]
     },
     "execution_count": 7,
     "metadata": {},
     "output_type": "execute_result"
    }
   ],
   "source": [
    "[department for name, department in result]"
   ]
  },
  {
   "cell_type": "code",
   "execution_count": 9,
   "metadata": {},
   "outputs": [
    {
     "name": "stdout",
     "output_type": "stream",
     "text": [
      "國立交通大學／機械工程研究所\n",
      "國立交通大學／資訊科學與工程研究所\n"
     ]
    },
    {
     "data": {
      "text/plain": [
       "['國立交通大學']"
      ]
     },
     "execution_count": 9,
     "metadata": {},
     "output_type": "execute_result"
    }
   ],
   "source": [
    "from utils.get_setting import find_key_path\n",
    "\n",
    "person = \"方文聘\"\n",
    "crawler_RDF_folder_path = find_key_path(\"碩博士論文_RDF\")\n",
    "crawler_RDF_data = pd.read_excel(crawler_RDF_folder_path)\n",
    "\n",
    "def find_crawler_person_relative_school(person, crawler_RDF_data):\n",
    "    person_data = crawler_RDF_data[crawler_RDF_data['學生姓名'] == person]\n",
    "    \n",
    "    if len(person_data) == 0:\n",
    "        return \"\"\n",
    "    else:\n",
    "        result_list = []\n",
    "        for department in person_data['畢業學校']:\n",
    "            print(department)\n",
    "            result_list.append(department.split(\"／\")[0])\n",
    "            \n",
    "        return list(set(result_list))\n",
    "    \n",
    "find_crawler_person_relative_school(person, crawler_RDF_data)"
   ]
  },
  {
   "cell_type": "code",
   "execution_count": 21,
   "metadata": {},
   "outputs": [
    {
     "name": "stdout",
     "output_type": "stream",
     "text": [
      "國立臺灣大學／資訊科學研究所\n",
      "國立臺灣大學／資訊工程研究所\n",
      "['國立臺灣大學']\n"
     ]
    }
   ],
   "source": [
    "from itertools import chain\n",
    "\n",
    "text = \"\"\"\n",
    "孫敏德(國立中央大學資訊工程學系);\n",
    "張克士(國立暨南國際大學教育學院);\n",
    "洪炯宗(國立中央大學資訊工程學系)\n",
    "\"\"\"\n",
    "result = extract_text_in_parentheses(text)\n",
    "data = list([find_crawler_person_relative_school(name, crawler_RDF_data) for name, department in result]),\n",
    "\n",
    "\n",
    "from itertools import chain\n",
    "\n",
    "# data = (['', '', ['國立臺灣大學']],)\n",
    "flattened_data = list(chain.from_iterable(chain.from_iterable(data)))\n",
    "\n",
    "print(flattened_data)\n"
   ]
  },
  {
   "cell_type": "code",
   "execution_count": 6,
   "metadata": {},
   "outputs": [
    {
     "name": "stdout",
     "output_type": "stream",
     "text": [
      "Filtered Members: ['顏孟華', '郭景明', '黃建宏']\n",
      "Remaining Members: ['蘇明祥', '羅友聲', '鐘玉芳', '龔旭陽', '簡廷因', '連琬菁', '徐建業']\n",
      "Filter Reasons: {'顏孟華': '計畫申請學校 與 委員曾就職學校 (國立成功大學) 重疊', '黃建宏': '計畫申請學校 與 委員曾就職學校 (國立成功大學) 重疊', '郭景明': '計畫申請學校 與 委員曾就職學校 (國立成功大學) 重疊'}\n",
      "{'Filtered Members': ['顏孟華', '郭景明', '黃建宏'], 'Remaining Members': ['蘇明祥', '羅友聲', '鐘玉芳', '龔旭陽', '簡廷因', '連琬菁', '徐建業'], 'Filter Reasons': {'顏孟華': '計畫申請學校 與 委員曾就職學校 (國立成功大學) 重疊', '黃建宏': '計畫申請學校 與 委員曾就職學校 (國立成功大學) 重疊', '郭景明': '計畫申請學校 與 委員曾就職學校 (國立成功大學) 重疊'}}\n",
      "---------\n",
      "Filtered Members: ['鄭昌杰', '彭其瀚', '王才沛']\n",
      "Remaining Members: ['黃怡錚', '石昭玲', '施皇嘉', '周建興', '鍾國亮', '何前程', '范育成']\n",
      "Filter Reasons: {'鄭昌杰': '共同計畫主持的學校 與 委員曾就職學校 (國立陽明交通大學) 重疊', '彭其瀚': '共同計畫主持的學校 與 委員曾就職學校 (國立陽明交通大學) 重疊', '王才沛': '共同計畫主持的學校 與 委員曾就職學校 (國立陽明交通大學) 重疊'}\n",
      "{'Filtered Members': ['鄭昌杰', '彭其瀚', '王才沛'], 'Remaining Members': ['黃怡錚', '石昭玲', '施皇嘉', '周建興', '鍾國亮', '何前程', '范育成'], 'Filter Reasons': {'鄭昌杰': '共同計畫主持的學校 與 委員曾就職學校 (國立陽明交通大學) 重疊', '彭其瀚': '共同計畫主持的學校 與 委員曾就職學校 (國立陽明交通大學) 重疊', '王才沛': '共同計畫主持的學校 與 委員曾就職學校 (國立陽明交通大學) 重疊'}}\n"
     ]
    }
   ],
   "source": [
    "def filter_committee_advanced(schools_info, committee_members, filter_pairs):\n",
    "    \"\"\"\n",
    "    進階過濾委員名單，根據具體的配對關係進行過濾，並提供過濾的具體原因。\n",
    "\n",
    "    :param schools_info: 包含學校相關資訊的字典\n",
    "    :param committee_members: 包含委員相關資訊的列表\n",
    "    :param filter_pairs: 列表，包含過濾配對條件，例如 [(\"申請學校\", \"就職學校\")]\n",
    "    :return: 一個字典，包含過濾前後的委員名單和未過濾的委員名單，以及過濾原因\n",
    "    \"\"\"\n",
    "    \n",
    "    filtered_members = set()\n",
    "    filter_reasons = {}\n",
    "\n",
    "    # 根據配對條件進行過濾\n",
    "    for school_type, member_field in filter_pairs:\n",
    "        if school_type in schools_info and schools_info[school_type]:\n",
    "            school_list = schools_info[school_type] if isinstance(schools_info[school_type], list) else [schools_info[school_type]]\n",
    "            for member in committee_members:\n",
    "                matching_schools = [school for school in member[member_field] if school in school_list and school]\n",
    "                if matching_schools:\n",
    "                    filtered_members.add(member['委員名稱'])\n",
    "                    filter_reasons[member['委員名稱']] = f\"{school_type} 與 {member_field} ({', '.join(matching_schools)}) 重疊\"\n",
    "\n",
    "    # 創建過濾後的委員名單\n",
    "    remaining_members = [member['委員名稱'] for member in committee_members if member['委員名稱'] not in filtered_members]\n",
    "\n",
    "    # 返回結果\n",
    "    return {\n",
    "        'Filtered Members': list(filtered_members),\n",
    "        'Remaining Members': remaining_members,\n",
    "        'Filter Reasons': filter_reasons\n",
    "    }\n",
    "\n",
    "# 測試修正後的函數\n",
    "filter_pairs = [('計畫申請學校', '委員曾就職學校'), ('共同計畫主持的學校', '委員曾就職學校')]\n",
    "schools_info =  {'計畫申請學校': '國立成功大學', '共同計畫主持的學校': [''], '計畫主持人過去畢業的學校': [], '共同主持人過去的畢業學校': ['淡江大學']}\n",
    "committee_members =  [\n",
    "    {'委員名稱': '蘇明祥', '委員曾就職學校': ['東吳大學'], '委員過去畢業學校': []}, \n",
    "    {'委員名稱': '羅友聲', '委員曾就職學校': [], '委員過去畢業學校': []}, \n",
    "    {'委員名稱': '顏孟華', '委員曾就職學校': ['國立成功大學'], '委員過去畢業學校': []}, \n",
    "    {'委員名稱': '黃建宏', '委員曾就職學校': ['國立成功大學'], '委員過去畢業學校': []}, \n",
    "    {'委員名稱': '鐘玉芳', '委員曾就職學校': ['東海大學'], '委員過去畢業學校': []}, \n",
    "    {'委員名稱': '郭景明', '委員曾就職學校': ['國立成功大學'], '委員過去畢業學校': []}, \n",
    "    {'委員名稱': '龔旭陽', '委員曾就職學校': ['國立屏東科技大學'], '委員過去畢業學校': []}, \n",
    "    {'委員名稱': '簡廷因', '委員曾就職學校': ['元智大學'], '委員過去畢業學校': []}, \n",
    "    {'委員名稱': '連琬菁', '委員曾就職學校': ['國立臺灣大學'], '委員過去畢業學校': []}, \n",
    "    {'委員名稱': '徐建業', '委員曾就職學校': ['國立臺北護理健康大學'], '委員過去畢業學校': []}\n",
    "]\n",
    "\n",
    "result = filter_committee_advanced(schools_info, committee_members, filter_pairs)\n",
    "for item in result:\n",
    "    print(f\"{item}: {result[item]}\")\n",
    "\n",
    "print(result)\n",
    "print(\"---------\")\n",
    "\n",
    "schools_info = {'計畫申請學校': '', '共同計畫主持的學校': ['', '國立陽明交通大學'], '計畫主持人過去畢業的學校': [], '共同主持人過去畢業的學校': []}\n",
    "committee_members =[\n",
    "    {'委員名稱': '鄭昌杰', '委員曾就職學校': ['國立陽明交通大學', '國立交通大學'], '委員過去畢業學校': []}, \n",
    "    {'委員名稱': '彭其瀚', '委員曾就職學校': ['國立陽明交通大學'], '委員過去畢業學校': []}, \n",
    "    {'委員名稱': '黃怡錚', '委員曾就職學校': ['元智大學'], '委員過去畢業學校': []}, \n",
    "    {'委員名稱': '石昭玲', '委員曾就職學校': ['中華大學'], '委員過去畢業學校': []}, \n",
    "    {'委員名稱': '施皇嘉', '委員曾就職學校': ['元智大學'], '委員過去畢業學校': []}, \n",
    "    {'委員名稱': '周建興', '委員曾就職學校': ['淡江大學', '國立臺北教育大學'], '委員過去畢業學校': []}, \n",
    "    {'委員名稱': '鍾國亮', '委員曾就職學校': ['國立臺灣科技大學'], '委員過去畢業學校': []}, \n",
    "    {'委員名稱': '何前程', '委員曾就職學校': ['國立雲林科技大學'], '委員過去畢業學校': []}, \n",
    "    {'委員名稱': '范育成', '委員曾就職學校': ['國立臺北科技大學'], '委員過去畢業學校': []}, \n",
    "    {'委員名稱': '王才沛', '委員曾就職學校': ['國立陽明交通大學', '國立交通大學'], '委員過去畢業學校': []}\n",
    "]\n",
    "\n",
    "result = filter_committee_advanced(schools_info, committee_members, filter_pairs)\n",
    "for item in result:\n",
    "    print(f\"{item}: {result[item]}\")\n",
    "print(result)\n"
   ]
  },
  {
   "cell_type": "code",
   "execution_count": 10,
   "metadata": {},
   "outputs": [
    {
     "name": "stdout",
     "output_type": "stream",
     "text": [
      "Filtered Members: ['鄭昌杰', '彭其瀚', '王才沛']\n",
      "Remaining Members: ['龔旭陽', '范育成', '施皇嘉', '連琬菁', '蘇明祥', '鍾國亮', '鐘玉芳', '黃怡錚', '石昭玲', '羅友聲', '周建興', '簡廷因', '徐建業', '何前程']\n",
      "Filter Reasons: {'顏孟華': '計畫申請學校 與 委員曾就職學校 (國立成功大學) 重疊', '黃建宏': '計畫申請學校 與 委員曾就職學校 (國立成功大學) 重疊', '郭景明': '計畫申請學校 與 委員曾就職學校 (國立成功大學) 重疊', '鄭昌杰': '共同計畫主持的學校 與 委員曾就職學校 (國立陽明交通大學) 重疊', '彭其瀚': '共同計畫主持的學校 與 委員曾就職學校 (國立陽明交通大學) 重疊', '王才沛': '共同計畫主持的學校 與 委員曾就職學校 (國立陽明交通大學) 重疊'}\n"
     ]
    }
   ],
   "source": [
    "def merge_results(result1, result2):\n",
    "    \"\"\"\n",
    "    合併兩個過濾結果。\n",
    "\n",
    "    :param result1: 第一個過濾結果字典\n",
    "    :param result2: 第二個過濾結果字典\n",
    "    :return: 合併後的過濾結果字典\n",
    "    \"\"\"\n",
    "    # 合併 'Filtered Members'\n",
    "    merged_filtered_members = list(set(result1['Filtered Members'] + result2['Filtered Members']))\n",
    "    \n",
    "    # 合併 'Remaining Members'\n",
    "    merged_remaining_members = list(set(result1['Remaining Members'] + result2['Remaining Members']) - set(merged_filtered_members))\n",
    "    \n",
    "    # 合併 'Filter Reasons'\n",
    "    merged_filter_reasons = {**result1['Filter Reasons'], **result2['Filter Reasons']}\n",
    "    \n",
    "    return {\n",
    "        'Filtered Members': merged_filtered_members,\n",
    "        'Remaining Members': merged_remaining_members,\n",
    "        'Filter Reasons': merged_filter_reasons\n",
    "    }\n",
    "\n",
    "# 使用範例\n",
    "result1 = {'Filtered Members': [], 'Remaining Members': ['蘇明祥', '羅友聲', '鐘玉芳', '龔旭陽', '簡廷因', '連琬菁', '徐建業'], 'Filter Reasons': {'顏孟華': '計畫申請學校 與 委員曾就職學校 (國立成功大學) 重疊', '黃建宏': '計畫申請學校 與 委員曾就職學校 (國立成功大學) 重疊', '郭景明': '計畫申請學校 與 委員曾就職學校 (國立成功大學) 重疊'}}\n",
    "result2 ={'Filtered Members': ['鄭昌杰', '彭其瀚', '王才沛'], 'Remaining Members': ['黃怡錚', '石昭玲', '施皇嘉', '周建興', '鍾國亮', '何前程', '范育成'], 'Filter Reasons': {'鄭昌杰': '共同計畫主持的學校 與 委員曾就職學校 (國立陽明交通大學) 重疊', '彭其瀚': '共同計畫主持的學校 與 委員曾就職學校 (國立陽明交通大學) 重疊', '王才沛': '共同計畫主持的學校 與 委員曾就職學校 (國立陽明交通大學) 重疊'}}\n",
    "\n",
    "merged_result = merge_results(result1, result2)\n",
    "for item in merged_result:\n",
    "    print(f\"{item}: {merged_result[item]}\")\n",
    "\n"
   ]
  }
 ],
 "metadata": {
  "kernelspec": {
   "display_name": "Python 3",
   "language": "python",
   "name": "python3"
  },
  "language_info": {
   "codemirror_mode": {
    "name": "ipython",
    "version": 3
   },
   "file_extension": ".py",
   "mimetype": "text/x-python",
   "name": "python",
   "nbconvert_exporter": "python",
   "pygments_lexer": "ipython3",
   "version": "3.11.5"
  }
 },
 "nbformat": 4,
 "nbformat_minor": 2
}
